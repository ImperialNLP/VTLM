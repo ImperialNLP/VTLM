{
 "cells": [
  {
   "cell_type": "code",
   "execution_count": 9,
   "metadata": {},
   "outputs": [],
   "source": [
    "f = open(\"concap-subset.txt\",\"r\")\n",
    "liste = []\n",
    "for line in f:\n",
    "    liste.append(line.split(\"\\t\"))\n",
    "    "
   ]
  },
  {
   "cell_type": "code",
   "execution_count": 10,
   "metadata": {},
   "outputs": [
    {
     "name": "stdout",
     "output_type": "stream",
     "text": [
      "['1.jpg', 'http://78.media.tumblr.com/3b133294bdc7c7784b781b45eb9af7be/tumblr_nbirmjpEme1tkk0fco1_500.jpg', 'sierra looked stunning in this top and this skirt while performing with person at their former university', 'sierra sah atemberaubend aus in diesem Top und diesem Rock, während sie mit einer Person an ihrer ehemaligen Universität performte\\n']\n"
     ]
    }
   ],
   "source": [
    "print(liste[0])"
   ]
  },
  {
   "cell_type": "code",
   "execution_count": 11,
   "metadata": {},
   "outputs": [
    {
     "name": "stdout",
     "output_type": "stream",
     "text": [
      "New York, 2-27 May 2005\n",
      "\n",
      "2005年5月2日至27日，纽约\n",
      "\n"
     ]
    }
   ],
   "source": [
    "en_sentences = []\n",
    "de_sentences = []\n",
    "image_names = []\n",
    "for line in liste:\n",
    "    en_sentences.append(line[2].strip())\n",
    "    de_sentences.append(line[3].strip())\n",
    "    image_names.append(line[0])\n",
    "f_en = open(\"./data/para/MultiUN.en-zh.en\",\"r\")\n",
    "f_zh = open(\"./data/para/MultiUN.en-zh.zh\",\"r\",encoding=\"utf-8\")\n",
    "for line in f_en:\n",
    "    print(line)\n",
    "    break\n",
    "for line in f_zh:\n",
    "    print(line)\n",
    "    break\n",
    "f_image_names = open(\"image_names.all\",\"w+\")\n",
    "for image in image_names:\n",
    "    f_image_names.write(image + \"\\n\")\n",
    "f_image_names.close()"
   ]
  },
  {
   "cell_type": "code",
   "execution_count": 6,
   "metadata": {},
   "outputs": [],
   "source": [
    "f_our_en = open(\"./data/conceptual_captions/en-de.en.all\",\"w+\")\n",
    "f_our_de = open(\"./data/conceptual_captions/en-de.de.all\",\"w+\")\n",
    "for sentence in en_sentences:\n",
    "    f_our_en.write(sentence + \"\\n\")\n",
    "for sentence in de_sentences:\n",
    "    f_our_de.write(sentence + \"\\n\")\n",
    "f_our_en.close()\n",
    "f_our_de.close()"
   ]
  },
  {
   "cell_type": "code",
   "execution_count": 7,
   "metadata": {},
   "outputs": [
    {
     "name": "stdout",
     "output_type": "stream",
     "text": [
      "conceptual_captions  para  processed\r\n"
     ]
    }
   ],
   "source": [
    "!ls data"
   ]
  },
  {
   "cell_type": "code",
   "execution_count": 10,
   "metadata": {},
   "outputs": [
    {
     "name": "stdout",
     "output_type": "stream",
     "text": [
      "24276\n"
     ]
    }
   ],
   "source": [
    "f_our_en = open(\"./data/conceptual_captions/en-de.en.train\",\"r\")\n",
    "f_our_de = open(\"./data/conceptual_captions/en-de.de.all\",\"r\")\n",
    "ctr = 0\n",
    "for line in f_our_en:\n",
    "    ctr += 1\n",
    "print(ctr)\n",
    "f_our_en.close()"
   ]
  },
  {
   "cell_type": "code",
   "execution_count": 1,
   "metadata": {},
   "outputs": [
    {
     "name": "stdout",
     "output_type": "stream",
     "text": [
      "dict_keys(['detection_scores', 'detection_boxes', 'detection_features', 'detection_classes'])\n"
     ]
    }
   ],
   "source": [
    "infile = open(\"/data/shared/ConceptualCaptions/fastrcnn_features_36/1.pkl\",\"rb\")\n",
    "import pickle\n",
    "dicto = pickle.load(infile)\n",
    "print(dicto.keys())"
   ]
  },
  {
   "cell_type": "code",
   "execution_count": 2,
   "metadata": {},
   "outputs": [
    {
     "name": "stdout",
     "output_type": "stream",
     "text": [
      "[0.8473595  0.80121195 0.58229613 0.5005503  0.4720033  0.46130976\n",
      " 0.46016404 0.4442422  0.38636395 0.27545226 0.250449   0.23988964\n",
      " 0.22653924 0.21547732 0.20770293 0.1745732  0.1713688  0.16905321\n",
      " 0.12753981 0.1257286  0.11458828 0.10679107 0.10387578 0.10115504\n",
      " 0.10013185 0.09860755 0.09606551 0.09574875 0.093685   0.09363181\n",
      " 0.09236965 0.09128891 0.08075303 0.07491034 0.07391428 0.07265624]\n"
     ]
    }
   ],
   "source": [
    "print(dicto[\"detection_scores\"])"
   ]
  },
  {
   "cell_type": "code",
   "execution_count": 3,
   "metadata": {},
   "outputs": [
    {
     "name": "stdout",
     "output_type": "stream",
     "text": [
      "[[0.55928177 0.5682907  0.65355086 0.64590776]\n",
      " [0.01704556 0.03619614 0.36286184 0.29475576]\n",
      " [0.06590391 0.3705536  0.9178154  0.70917916]\n",
      " [0.24686407 0.42092875 0.7122844  0.58941376]\n",
      " [0.20716843 0.41327268 0.7328102  0.5945906 ]\n",
      " [0.85381556 0.46214008 0.92594385 0.511571  ]\n",
      " [0.39117324 0.7374358  0.88489085 0.9563445 ]\n",
      " [0.05658437 0.37653947 0.9482474  0.69207335]\n",
      " [0.37993503 0.74890214 0.90360814 0.9592735 ]\n",
      " [0.41211334 0.7475551  0.9243607  0.94398135]\n",
      " [0.5067983  0.65641516 0.81552553 0.73385006]\n",
      " [0.48671332 0.6329038  0.78597784 0.72407806]\n",
      " [0.5095768  0.6566957  0.8249223  0.73238623]\n",
      " [0.09033432 0.4522778  0.15802477 0.4876347 ]\n",
      " [0.57335985 0.4728182  0.9190403  0.7359863 ]\n",
      " [0.86083347 0.4984668  0.92784333 0.5561107 ]\n",
      " [0.         0.0307142  0.38251507 0.30403435]\n",
      " [0.6678601  0.4156362  0.8771601  0.5093273 ]\n",
      " [0.66900206 0.5631813  0.87739605 0.65023017]\n",
      " [0.5725802  0.67207605 0.7682366  0.7306685 ]\n",
      " [0.45670334 0.62965894 0.51674956 0.6744913 ]\n",
      " [0.08677015 0.44167185 0.3337573  0.5771445 ]\n",
      " [0.03648949 0.0347804  0.3552718  0.0917974 ]\n",
      " [0.10836644 0.35146105 0.14005665 0.44425565]\n",
      " [0.04026612 0.24043553 0.36491337 0.30053467]\n",
      " [0.47727653 0.6163925  0.7957834  0.7299434 ]\n",
      " [0.41521668 0.7498098  0.9030285  0.96296424]\n",
      " [0.42137387 0.58914196 0.8620913  0.72217953]\n",
      " [0.         0.02882187 0.37809193 0.29887795]\n",
      " [0.71023154 0.6673852  0.87783897 0.729902  ]\n",
      " [0.6711156  0.41567972 0.8779635  0.5055719 ]\n",
      " [0.12170965 0.36195397 0.29941374 0.4503911 ]\n",
      " [0.08835312 0.37896258 0.95673466 0.7005139 ]\n",
      " [0.57643825 0.565353   0.77742386 0.6633766 ]\n",
      " [0.4307081  0.58863866 0.87630606 0.72294605]\n",
      " [0.45565248 0.629322   0.51722497 0.6745344 ]]\n"
     ]
    }
   ],
   "source": [
    "print(dicto[\"detection_boxes\"])"
   ]
  },
  {
   "cell_type": "code",
   "execution_count": 12,
   "metadata": {},
   "outputs": [
    {
     "name": "stdout",
     "output_type": "stream",
     "text": [
      "(36, 8, 8, 1536)\n"
     ]
    }
   ],
   "source": [
    "print(dicto[\"detection_features\"].shape)"
   ]
  },
  {
   "cell_type": "code",
   "execution_count": 13,
   "metadata": {},
   "outputs": [
    {
     "name": "stdout",
     "output_type": "stream",
     "text": [
      "[141. 432. 227.  57. 432. 433.  47.  68. 432. 396.  68. 307. 307. 501.\n",
      "  39. 433.  68. 141. 141. 432. 307. 252. 502. 554. 502.  68. 513.  68.\n",
      " 227.  52. 300. 502. 332. 141. 307.  68.]\n"
     ]
    }
   ],
   "source": [
    "print(dicto[\"detection_classes\"])"
   ]
  },
  {
   "cell_type": "code",
   "execution_count": null,
   "metadata": {},
   "outputs": [],
   "source": []
  }
 ],
 "metadata": {
  "kernelspec": {
   "display_name": "Python 3",
   "language": "python",
   "name": "python3"
  },
  "language_info": {
   "codemirror_mode": {
    "name": "ipython",
    "version": 3
   },
   "file_extension": ".py",
   "mimetype": "text/x-python",
   "name": "python",
   "nbconvert_exporter": "python",
   "pygments_lexer": "ipython3",
   "version": "3.6.9"
  }
 },
 "nbformat": 4,
 "nbformat_minor": 2
}
